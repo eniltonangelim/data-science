{
 "cells": [
  {
   "cell_type": "markdown",
   "id": "94c931aa",
   "metadata": {},
   "source": [
    "# Análise de Dados - Ocupação Hospitalar COVID-19\n",
    "\n",
    "> A avaliação de melhor ou pior hospital não considera a quantidade de paciente por unidade de saúde e também não considera o período de ocupação.\n",
    "\n",
    "Fonte: https://opendatasus.saude.gov.br"
   ]
  },
  {
   "cell_type": "code",
   "execution_count": 1,
   "id": "b9fdc2b9",
   "metadata": {},
   "outputs": [],
   "source": [
    "import pandas as pd\n",
    "import pandera as pa\n",
    "import matplotlib.pyplot as plt"
   ]
  },
  {
   "cell_type": "code",
   "execution_count": 2,
   "id": "72fc1611",
   "metadata": {},
   "outputs": [],
   "source": [
    "dataset_covid = \"../../datasets/sus2021/esus-vepi.LeitoOcupacao.csv\"\n",
    "dataset_cnes = \"../../datasets/sus2021/cnes_ndis_01_04_2020_banco_estab.csv\"\n",
    "\n",
    "sars_df = pd.read_csv(dataset_covid, \n",
    "                      low_memory=False, \n",
    "                      converters={'cnes': lambda x: str(x)},\n",
    "                      parse_dates=['dataNotificacao'],\n",
    "                      date_parser=lambda x: pd.to_datetime(x).tz_localize(None)\n",
    "                     ).dropna(subset=['cnes', 'saidaConfirmadaObitos'])\n",
    "cnes_df = pd.read_csv(dataset_cnes, \n",
    "                      low_memory=False,\n",
    "                      usecols=[\"CO_CNES\", \"NO_FANTASIA\"],\n",
    "                      converters={'CO_CNES': lambda x: str(x)}\n",
    "                     ).rename(columns={'CO_CNES': 'cnes', 'NO_FANTASIA': 'nome'})"
   ]
  },
  {
   "cell_type": "code",
   "execution_count": 3,
   "id": "7bf112f5",
   "metadata": {},
   "outputs": [],
   "source": [
    "def cnes(): return cnes_df"
   ]
  },
  {
   "cell_type": "code",
   "execution_count": 4,
   "id": "73482483",
   "metadata": {},
   "outputs": [
    {
     "data": {
      "text/plain": [
       "cnes    object\n",
       "nome    object\n",
       "dtype: object"
      ]
     },
     "execution_count": 4,
     "metadata": {},
     "output_type": "execute_result"
    }
   ],
   "source": [
    "cnes().dtypes"
   ]
  },
  {
   "cell_type": "code",
   "execution_count": 5,
   "id": "e4faf858",
   "metadata": {},
   "outputs": [],
   "source": [
    "def df(): return sars_df"
   ]
  },
  {
   "cell_type": "code",
   "execution_count": 6,
   "id": "e8f3bd3f",
   "metadata": {},
   "outputs": [
    {
     "data": {
      "text/plain": [
       "_id                              object\n",
       "dataNotificacao          datetime64[ns]\n",
       "cnes                             object\n",
       "ocupacaoSuspeitoCli             float64\n",
       "ocupacaoSuspeitoUti             float64\n",
       "ocupacaoConfirmadoCli           float64\n",
       "ocupacaoConfirmadoUti           float64\n",
       "saidaSuspeitaObitos             float64\n",
       "saidaSuspeitaAltas              float64\n",
       "saidaConfirmadaObitos           float64\n",
       "saidaConfirmadaAltas            float64\n",
       "origem                           object\n",
       "_p_usuario                       object\n",
       "estadoNotificacao                object\n",
       "municipioNotificacao             object\n",
       "estado                           object\n",
       "municipio                        object\n",
       "excluido                           bool\n",
       "validado                           bool\n",
       "_created_at                      object\n",
       "_updated_at                      object\n",
       "dtype: object"
      ]
     },
     "execution_count": 6,
     "metadata": {},
     "output_type": "execute_result"
    }
   ],
   "source": [
    "df().dtypes"
   ]
  },
  {
   "cell_type": "code",
   "execution_count": 7,
   "id": "0cd03b19",
   "metadata": {},
   "outputs": [
    {
     "data": {
      "text/html": [
       "<div>\n",
       "<style scoped>\n",
       "    .dataframe tbody tr th:only-of-type {\n",
       "        vertical-align: middle;\n",
       "    }\n",
       "\n",
       "    .dataframe tbody tr th {\n",
       "        vertical-align: top;\n",
       "    }\n",
       "\n",
       "    .dataframe thead th {\n",
       "        text-align: right;\n",
       "    }\n",
       "</style>\n",
       "<table border=\"1\" class=\"dataframe\">\n",
       "  <thead>\n",
       "    <tr style=\"text-align: right;\">\n",
       "      <th></th>\n",
       "      <th>_id</th>\n",
       "      <th>dataNotificacao</th>\n",
       "      <th>cnes</th>\n",
       "      <th>ocupacaoSuspeitoCli</th>\n",
       "      <th>ocupacaoSuspeitoUti</th>\n",
       "      <th>ocupacaoConfirmadoCli</th>\n",
       "      <th>ocupacaoConfirmadoUti</th>\n",
       "      <th>saidaSuspeitaObitos</th>\n",
       "      <th>saidaSuspeitaAltas</th>\n",
       "      <th>saidaConfirmadaObitos</th>\n",
       "      <th>...</th>\n",
       "      <th>origem</th>\n",
       "      <th>_p_usuario</th>\n",
       "      <th>estadoNotificacao</th>\n",
       "      <th>municipioNotificacao</th>\n",
       "      <th>estado</th>\n",
       "      <th>municipio</th>\n",
       "      <th>excluido</th>\n",
       "      <th>validado</th>\n",
       "      <th>_created_at</th>\n",
       "      <th>_updated_at</th>\n",
       "    </tr>\n",
       "  </thead>\n",
       "  <tbody>\n",
       "    <tr>\n",
       "      <th>0</th>\n",
       "      <td>p5Ez41Zu6B</td>\n",
       "      <td>2020-04-14 03:00:00.000</td>\n",
       "      <td>2303167</td>\n",
       "      <td>0.0</td>\n",
       "      <td>0.0</td>\n",
       "      <td>0.0</td>\n",
       "      <td>0.0</td>\n",
       "      <td>0.0</td>\n",
       "      <td>0.0</td>\n",
       "      <td>0.0</td>\n",
       "      <td>...</td>\n",
       "      <td>aplicacao-web</td>\n",
       "      <td>_User$auVMjEVEVz</td>\n",
       "      <td>Santa Catarina</td>\n",
       "      <td>Itapema</td>\n",
       "      <td>Santa Catarina</td>\n",
       "      <td>Itapema</td>\n",
       "      <td>True</td>\n",
       "      <td>False</td>\n",
       "      <td>2020-04-15T13:44:30.085Z</td>\n",
       "      <td>2020-04-16T13:56:13.656Z</td>\n",
       "    </tr>\n",
       "    <tr>\n",
       "      <th>1</th>\n",
       "      <td>eUOMsSt7T7</td>\n",
       "      <td>2020-04-15 03:00:00.000</td>\n",
       "      <td>5935377\\t</td>\n",
       "      <td>1.0</td>\n",
       "      <td>0.0</td>\n",
       "      <td>0.0</td>\n",
       "      <td>0.0</td>\n",
       "      <td>0.0</td>\n",
       "      <td>1.0</td>\n",
       "      <td>0.0</td>\n",
       "      <td>...</td>\n",
       "      <td>parse-cloud</td>\n",
       "      <td>_User$WBa5nfe9P9</td>\n",
       "      <td>Rio de Janeiro</td>\n",
       "      <td>Rio de Janeiro</td>\n",
       "      <td>Rio de Janeiro</td>\n",
       "      <td>Rio de Janeiro</td>\n",
       "      <td>False</td>\n",
       "      <td>False</td>\n",
       "      <td>2020-04-15T13:50:47.256Z</td>\n",
       "      <td>2020-08-01T20:08:13.116Z</td>\n",
       "    </tr>\n",
       "    <tr>\n",
       "      <th>2</th>\n",
       "      <td>QaG4oIBrMa</td>\n",
       "      <td>2020-04-15 14:57:16.255</td>\n",
       "      <td>0012599</td>\n",
       "      <td>15.0</td>\n",
       "      <td>1.0</td>\n",
       "      <td>3.0</td>\n",
       "      <td>2.0</td>\n",
       "      <td>0.0</td>\n",
       "      <td>0.0</td>\n",
       "      <td>0.0</td>\n",
       "      <td>...</td>\n",
       "      <td>parse-cloud</td>\n",
       "      <td>_User$6oxZQHBPQ7</td>\n",
       "      <td>Rio de Janeiro</td>\n",
       "      <td>Niterói</td>\n",
       "      <td>Rio de Janeiro</td>\n",
       "      <td>Niterói</td>\n",
       "      <td>False</td>\n",
       "      <td>False</td>\n",
       "      <td>2020-04-15T15:20:57.033Z</td>\n",
       "      <td>2020-08-01T20:02:12.729Z</td>\n",
       "    </tr>\n",
       "    <tr>\n",
       "      <th>3</th>\n",
       "      <td>ifya31F3ZF</td>\n",
       "      <td>2020-03-24 03:00:00.000</td>\n",
       "      <td>2562871</td>\n",
       "      <td>9.0</td>\n",
       "      <td>0.0</td>\n",
       "      <td>1.0</td>\n",
       "      <td>0.0</td>\n",
       "      <td>0.0</td>\n",
       "      <td>0.0</td>\n",
       "      <td>0.0</td>\n",
       "      <td>...</td>\n",
       "      <td>parse-cloud</td>\n",
       "      <td>_User$fhufIbmR9C</td>\n",
       "      <td>Ceará</td>\n",
       "      <td>Várzea Alegre</td>\n",
       "      <td>Ceará</td>\n",
       "      <td>Várzea Alegre</td>\n",
       "      <td>False</td>\n",
       "      <td>False</td>\n",
       "      <td>2020-04-15T16:58:32.839Z</td>\n",
       "      <td>2020-08-01T21:40:37.624Z</td>\n",
       "    </tr>\n",
       "    <tr>\n",
       "      <th>4</th>\n",
       "      <td>dkurDhelx9</td>\n",
       "      <td>2020-04-01 03:00:00.000</td>\n",
       "      <td>2252228</td>\n",
       "      <td>26.0</td>\n",
       "      <td>0.0</td>\n",
       "      <td>1.0</td>\n",
       "      <td>0.0</td>\n",
       "      <td>0.0</td>\n",
       "      <td>0.0</td>\n",
       "      <td>0.0</td>\n",
       "      <td>...</td>\n",
       "      <td>parse-cloud</td>\n",
       "      <td>_User$tkAdHTNhC9</td>\n",
       "      <td>Rio Grande do Sul</td>\n",
       "      <td>Encantado</td>\n",
       "      <td>Rio Grande do Sul</td>\n",
       "      <td>Encantado</td>\n",
       "      <td>False</td>\n",
       "      <td>False</td>\n",
       "      <td>2020-04-15T17:02:53.877Z</td>\n",
       "      <td>2020-08-01T21:37:53.664Z</td>\n",
       "    </tr>\n",
       "    <tr>\n",
       "      <th>...</th>\n",
       "      <td>...</td>\n",
       "      <td>...</td>\n",
       "      <td>...</td>\n",
       "      <td>...</td>\n",
       "      <td>...</td>\n",
       "      <td>...</td>\n",
       "      <td>...</td>\n",
       "      <td>...</td>\n",
       "      <td>...</td>\n",
       "      <td>...</td>\n",
       "      <td>...</td>\n",
       "      <td>...</td>\n",
       "      <td>...</td>\n",
       "      <td>...</td>\n",
       "      <td>...</td>\n",
       "      <td>...</td>\n",
       "      <td>...</td>\n",
       "      <td>...</td>\n",
       "      <td>...</td>\n",
       "      <td>...</td>\n",
       "      <td>...</td>\n",
       "    </tr>\n",
       "    <tr>\n",
       "      <th>1085393</th>\n",
       "      <td>MKQJ10vpwx</td>\n",
       "      <td>2021-08-30 03:00:58.468</td>\n",
       "      <td>2298317</td>\n",
       "      <td>31.0</td>\n",
       "      <td>17.0</td>\n",
       "      <td>0.0</td>\n",
       "      <td>10.0</td>\n",
       "      <td>0.0</td>\n",
       "      <td>0.0</td>\n",
       "      <td>0.0</td>\n",
       "      <td>...</td>\n",
       "      <td>parse-cloud</td>\n",
       "      <td>_User$E1nsZgFQ3O</td>\n",
       "      <td>Rio de Janeiro</td>\n",
       "      <td>Campos dos Goytacazes</td>\n",
       "      <td>Rio de Janeiro</td>\n",
       "      <td>Campos dos Goytacazes</td>\n",
       "      <td>False</td>\n",
       "      <td>False</td>\n",
       "      <td>2021-08-30T23:50:05.115Z</td>\n",
       "      <td>2021-08-30T23:50:05.115Z</td>\n",
       "    </tr>\n",
       "    <tr>\n",
       "      <th>1085394</th>\n",
       "      <td>6wZ7fGaeNN</td>\n",
       "      <td>2021-08-30 03:00:09.541</td>\n",
       "      <td>2006448</td>\n",
       "      <td>43.0</td>\n",
       "      <td>7.0</td>\n",
       "      <td>0.0</td>\n",
       "      <td>0.0</td>\n",
       "      <td>0.0</td>\n",
       "      <td>0.0</td>\n",
       "      <td>0.0</td>\n",
       "      <td>...</td>\n",
       "      <td>parse-cloud</td>\n",
       "      <td>_User$3sZIQDvonm</td>\n",
       "      <td>Alagoas</td>\n",
       "      <td>Maceió</td>\n",
       "      <td>Alagoas</td>\n",
       "      <td>Maceió</td>\n",
       "      <td>False</td>\n",
       "      <td>False</td>\n",
       "      <td>2021-08-30T23:51:42.356Z</td>\n",
       "      <td>2021-08-30T23:51:42.356Z</td>\n",
       "    </tr>\n",
       "    <tr>\n",
       "      <th>1085395</th>\n",
       "      <td>1eLGSC8Jbc</td>\n",
       "      <td>2021-08-28 03:00:00.000</td>\n",
       "      <td>6518893</td>\n",
       "      <td>41.0</td>\n",
       "      <td>26.0</td>\n",
       "      <td>1.0</td>\n",
       "      <td>1.0</td>\n",
       "      <td>0.0</td>\n",
       "      <td>0.0</td>\n",
       "      <td>0.0</td>\n",
       "      <td>...</td>\n",
       "      <td>parse-cloud</td>\n",
       "      <td>_User$X0sO8dgFRM</td>\n",
       "      <td>Rio de Janeiro</td>\n",
       "      <td>São João de Meriti</td>\n",
       "      <td>Rio de Janeiro</td>\n",
       "      <td>São João de Meriti</td>\n",
       "      <td>False</td>\n",
       "      <td>False</td>\n",
       "      <td>2021-08-31T00:30:14.110Z</td>\n",
       "      <td>2021-08-31T00:30:49.613Z</td>\n",
       "    </tr>\n",
       "    <tr>\n",
       "      <th>1085396</th>\n",
       "      <td>Uu2RgeGCTH</td>\n",
       "      <td>2021-08-29 03:00:00.000</td>\n",
       "      <td>6518893</td>\n",
       "      <td>36.0</td>\n",
       "      <td>28.0</td>\n",
       "      <td>0.0</td>\n",
       "      <td>1.0</td>\n",
       "      <td>0.0</td>\n",
       "      <td>1.0</td>\n",
       "      <td>0.0</td>\n",
       "      <td>...</td>\n",
       "      <td>parse-cloud</td>\n",
       "      <td>_User$X0sO8dgFRM</td>\n",
       "      <td>Rio de Janeiro</td>\n",
       "      <td>São João de Meriti</td>\n",
       "      <td>Rio de Janeiro</td>\n",
       "      <td>São João de Meriti</td>\n",
       "      <td>False</td>\n",
       "      <td>False</td>\n",
       "      <td>2021-08-31T00:31:24.378Z</td>\n",
       "      <td>2021-08-31T00:31:24.378Z</td>\n",
       "    </tr>\n",
       "    <tr>\n",
       "      <th>1085397</th>\n",
       "      <td>TTkjMG034r</td>\n",
       "      <td>2021-08-30 03:00:29.365</td>\n",
       "      <td>6518893</td>\n",
       "      <td>42.0</td>\n",
       "      <td>24.0</td>\n",
       "      <td>2.0</td>\n",
       "      <td>1.0</td>\n",
       "      <td>0.0</td>\n",
       "      <td>0.0</td>\n",
       "      <td>0.0</td>\n",
       "      <td>...</td>\n",
       "      <td>parse-cloud</td>\n",
       "      <td>_User$X0sO8dgFRM</td>\n",
       "      <td>Rio de Janeiro</td>\n",
       "      <td>São João de Meriti</td>\n",
       "      <td>Rio de Janeiro</td>\n",
       "      <td>São João de Meriti</td>\n",
       "      <td>False</td>\n",
       "      <td>False</td>\n",
       "      <td>2021-08-31T00:31:49.276Z</td>\n",
       "      <td>2021-08-31T00:31:49.276Z</td>\n",
       "    </tr>\n",
       "  </tbody>\n",
       "</table>\n",
       "<p>1085380 rows × 21 columns</p>\n",
       "</div>"
      ],
      "text/plain": [
       "                _id         dataNotificacao       cnes  ocupacaoSuspeitoCli  \\\n",
       "0        p5Ez41Zu6B 2020-04-14 03:00:00.000    2303167                  0.0   \n",
       "1        eUOMsSt7T7 2020-04-15 03:00:00.000  5935377\\t                  1.0   \n",
       "2        QaG4oIBrMa 2020-04-15 14:57:16.255    0012599                 15.0   \n",
       "3        ifya31F3ZF 2020-03-24 03:00:00.000    2562871                  9.0   \n",
       "4        dkurDhelx9 2020-04-01 03:00:00.000    2252228                 26.0   \n",
       "...             ...                     ...        ...                  ...   \n",
       "1085393  MKQJ10vpwx 2021-08-30 03:00:58.468    2298317                 31.0   \n",
       "1085394  6wZ7fGaeNN 2021-08-30 03:00:09.541    2006448                 43.0   \n",
       "1085395  1eLGSC8Jbc 2021-08-28 03:00:00.000    6518893                 41.0   \n",
       "1085396  Uu2RgeGCTH 2021-08-29 03:00:00.000    6518893                 36.0   \n",
       "1085397  TTkjMG034r 2021-08-30 03:00:29.365    6518893                 42.0   \n",
       "\n",
       "         ocupacaoSuspeitoUti  ocupacaoConfirmadoCli  ocupacaoConfirmadoUti  \\\n",
       "0                        0.0                    0.0                    0.0   \n",
       "1                        0.0                    0.0                    0.0   \n",
       "2                        1.0                    3.0                    2.0   \n",
       "3                        0.0                    1.0                    0.0   \n",
       "4                        0.0                    1.0                    0.0   \n",
       "...                      ...                    ...                    ...   \n",
       "1085393                 17.0                    0.0                   10.0   \n",
       "1085394                  7.0                    0.0                    0.0   \n",
       "1085395                 26.0                    1.0                    1.0   \n",
       "1085396                 28.0                    0.0                    1.0   \n",
       "1085397                 24.0                    2.0                    1.0   \n",
       "\n",
       "         saidaSuspeitaObitos  saidaSuspeitaAltas  saidaConfirmadaObitos  ...  \\\n",
       "0                        0.0                 0.0                    0.0  ...   \n",
       "1                        0.0                 1.0                    0.0  ...   \n",
       "2                        0.0                 0.0                    0.0  ...   \n",
       "3                        0.0                 0.0                    0.0  ...   \n",
       "4                        0.0                 0.0                    0.0  ...   \n",
       "...                      ...                 ...                    ...  ...   \n",
       "1085393                  0.0                 0.0                    0.0  ...   \n",
       "1085394                  0.0                 0.0                    0.0  ...   \n",
       "1085395                  0.0                 0.0                    0.0  ...   \n",
       "1085396                  0.0                 1.0                    0.0  ...   \n",
       "1085397                  0.0                 0.0                    0.0  ...   \n",
       "\n",
       "                origem        _p_usuario  estadoNotificacao  \\\n",
       "0        aplicacao-web  _User$auVMjEVEVz     Santa Catarina   \n",
       "1          parse-cloud  _User$WBa5nfe9P9     Rio de Janeiro   \n",
       "2          parse-cloud  _User$6oxZQHBPQ7     Rio de Janeiro   \n",
       "3          parse-cloud  _User$fhufIbmR9C              Ceará   \n",
       "4          parse-cloud  _User$tkAdHTNhC9  Rio Grande do Sul   \n",
       "...                ...               ...                ...   \n",
       "1085393    parse-cloud  _User$E1nsZgFQ3O     Rio de Janeiro   \n",
       "1085394    parse-cloud  _User$3sZIQDvonm            Alagoas   \n",
       "1085395    parse-cloud  _User$X0sO8dgFRM     Rio de Janeiro   \n",
       "1085396    parse-cloud  _User$X0sO8dgFRM     Rio de Janeiro   \n",
       "1085397    parse-cloud  _User$X0sO8dgFRM     Rio de Janeiro   \n",
       "\n",
       "          municipioNotificacao             estado              municipio  \\\n",
       "0                      Itapema     Santa Catarina                Itapema   \n",
       "1               Rio de Janeiro     Rio de Janeiro         Rio de Janeiro   \n",
       "2                      Niterói     Rio de Janeiro                Niterói   \n",
       "3                Várzea Alegre              Ceará          Várzea Alegre   \n",
       "4                    Encantado  Rio Grande do Sul              Encantado   \n",
       "...                        ...                ...                    ...   \n",
       "1085393  Campos dos Goytacazes     Rio de Janeiro  Campos dos Goytacazes   \n",
       "1085394                 Maceió            Alagoas                 Maceió   \n",
       "1085395     São João de Meriti     Rio de Janeiro     São João de Meriti   \n",
       "1085396     São João de Meriti     Rio de Janeiro     São João de Meriti   \n",
       "1085397     São João de Meriti     Rio de Janeiro     São João de Meriti   \n",
       "\n",
       "        excluido  validado               _created_at               _updated_at  \n",
       "0           True     False  2020-04-15T13:44:30.085Z  2020-04-16T13:56:13.656Z  \n",
       "1          False     False  2020-04-15T13:50:47.256Z  2020-08-01T20:08:13.116Z  \n",
       "2          False     False  2020-04-15T15:20:57.033Z  2020-08-01T20:02:12.729Z  \n",
       "3          False     False  2020-04-15T16:58:32.839Z  2020-08-01T21:40:37.624Z  \n",
       "4          False     False  2020-04-15T17:02:53.877Z  2020-08-01T21:37:53.664Z  \n",
       "...          ...       ...                       ...                       ...  \n",
       "1085393    False     False  2021-08-30T23:50:05.115Z  2021-08-30T23:50:05.115Z  \n",
       "1085394    False     False  2021-08-30T23:51:42.356Z  2021-08-30T23:51:42.356Z  \n",
       "1085395    False     False  2021-08-31T00:30:14.110Z  2021-08-31T00:30:49.613Z  \n",
       "1085396    False     False  2021-08-31T00:31:24.378Z  2021-08-31T00:31:24.378Z  \n",
       "1085397    False     False  2021-08-31T00:31:49.276Z  2021-08-31T00:31:49.276Z  \n",
       "\n",
       "[1085380 rows x 21 columns]"
      ]
     },
     "execution_count": 7,
     "metadata": {},
     "output_type": "execute_result"
    }
   ],
   "source": [
    "schema = pa.DataFrameSchema(\n",
    "    columns = {\n",
    "        \"cnes\":pa.Column(pa.String),\n",
    "        \"dataNotificacao\":pa.Column(pa.DateTime),\n",
    "        \"estado\":pa.Column(pa.String, nullable=True),\n",
    "        \"saidaConfirmadaObitos\":pa.Column(pa.Float)\n",
    "        \n",
    "    }\n",
    ")\n",
    "\n",
    "schema.validate(df())"
   ]
  },
  {
   "cell_type": "code",
   "execution_count": 19,
   "id": "70839e86",
   "metadata": {},
   "outputs": [],
   "source": [
    "def get_hospital_by_cnes(id):\n",
    "    while len(id) < 7: id = \"0\" + id\n",
    "    return cnes().loc[cnes().cnes == id].nome.iloc[0]"
   ]
  },
  {
   "cell_type": "code",
   "execution_count": 9,
   "id": "963a048e",
   "metadata": {},
   "outputs": [],
   "source": [
    "def history_by_cnes(id):\n",
    "    while len(id) < 7: id = \"0\" + id\n",
    "    filter = df().cnes == id\n",
    "    rows = df().loc[filter, [\"dataNotificacao\", \"saidaConfirmadaObitos\"]]\n",
    "    grouped = rows.groupby(['dataNotificacao'])\n",
    "    rank = grouped.saidaConfirmadaObitos.sum().sort_values()\n",
    "    return rank"
   ]
  },
  {
   "cell_type": "code",
   "execution_count": 10,
   "id": "c6b5ff9d",
   "metadata": {},
   "outputs": [],
   "source": [
    "def best_hospital_by_state(state):\n",
    "    filter = df().estado.str.lower() == state.lower()\n",
    "    rows = df().loc[filter, [\"cnes\", \"saidaConfirmadaObitos\"]]\n",
    "    grouped = rows.groupby(['cnes'], as_index = False)\n",
    "    rank = grouped.saidaConfirmadaObitos.mean().sort_values(by=\"saidaConfirmadaObitos\")\n",
    "    return  rank[rank.saidaConfirmadaObitos > 0].iloc[0].cnes"
   ]
  },
  {
   "cell_type": "code",
   "execution_count": 11,
   "id": "78492a06",
   "metadata": {},
   "outputs": [],
   "source": [
    "def worst_hospital_by_state(state):\n",
    "    filter = df().estado.str.lower() == state.lower()\n",
    "    rows = df().loc[filter, [\"cnes\", \"saidaConfirmadaObitos\"]]\n",
    "    grouped = rows.groupby(['cnes'], as_index = False)\n",
    "    result = grouped.saidaConfirmadaObitos.mean().sort_values(by=\"saidaConfirmadaObitos\", ascending=False)\n",
    "    return  result.iloc[0].cnes"
   ]
  },
  {
   "cell_type": "code",
   "execution_count": 12,
   "id": "8b65249d",
   "metadata": {},
   "outputs": [
    {
     "data": {
      "text/plain": [
       "48735    MATERNIDADE ESCOLA ASSIS CHATEAUBRIAND\n",
       "Name: nome, dtype: object"
      ]
     },
     "execution_count": 12,
     "metadata": {},
     "output_type": "execute_result"
    }
   ],
   "source": [
    "# Melhor Hospital de Ceará: Menor média de mortalidade por COVID19\n",
    "\n",
    "cnes_rank = best_hospital_by_state(\"ceará\")\n",
    "get_hospital_by_cnes(cnes_rank)\n",
    "\n",
    "# 2481286 \tMATERNIDADE ESCOLA ASSIS CHATEAUBRIAND"
   ]
  },
  {
   "cell_type": "code",
   "execution_count": 13,
   "id": "a492902c",
   "metadata": {},
   "outputs": [
    {
     "data": {
      "text/plain": [
       "16085    SANTA CASA DE MISERICORDIA DE SAO LUIZ DO PARA...\n",
       "Name: nome, dtype: object"
      ]
     },
     "execution_count": 13,
     "metadata": {},
     "output_type": "execute_result"
    }
   ],
   "source": [
    "# Melhor Hospital de São Paulo: Menor média de mortalidade por COVID19\n",
    "\n",
    "cnes_rank = best_hospital_by_state(\"são paulo\")\n",
    "get_hospital_by_cnes(cnes_rank)\n",
    "\n",
    "# 2079690 \tSANTA CASA DE MISERICORDIA DE SAO LUIZ DO PARA.."
   ]
  },
  {
   "cell_type": "code",
   "execution_count": 14,
   "id": "62abcebb",
   "metadata": {},
   "outputs": [
    {
     "data": {
      "text/plain": [
       "7165    HOSPITAL LEONARDO DA VINCI\n",
       "Name: nome, dtype: object"
      ]
     },
     "execution_count": 14,
     "metadata": {},
     "output_type": "execute_result"
    }
   ],
   "source": [
    "# Pior Hospital do Ceará: Maior média de mortalidade por COVID19\n",
    "\n",
    "cnes_rank = worst_hospital_by_state(\"ceará\")\n",
    "get_hospital_by_cnes(cnes_rank)\n",
    "\n",
    "# 0086673 \tHOSPITAL LEONARDO DA VINCI"
   ]
  },
  {
   "cell_type": "code",
   "execution_count": 15,
   "id": "71eb412e",
   "metadata": {},
   "outputs": [
    {
     "data": {
      "text/plain": [
       "16979    HOSPITAL ESTADUAL DE SAPOPEMBA SAO PAULO\n",
       "Name: nome, dtype: object"
      ]
     },
     "execution_count": 15,
     "metadata": {},
     "output_type": "execute_result"
    }
   ],
   "source": [
    "# Pior Hospital de São Paulo: Maior média de mortalidade por COVID19\n",
    "\n",
    "cnes_rank = worst_hospital_by_state(\"São paulo\")\n",
    "get_hospital_by_cnes(cnes_rank)\n",
    "\n",
    "# 2091585 \tHOSPITAL ESTADUAL DE SAPOPEMBA SAO PAULO"
   ]
  },
  {
   "cell_type": "code",
   "execution_count": 33,
   "id": "08df3a78",
   "metadata": {},
   "outputs": [
    {
     "data": {
      "text/plain": [
       "<AxesSubplot:xlabel='dataNotificacao'>"
      ]
     },
     "execution_count": 33,
     "metadata": {},
     "output_type": "execute_result"
    },
    {
     "data": {
      "image/png": "[encoded data removed]",
      "text/plain": [
       "<Figure size 432x288 with 1 Axes>"
      ]
     },
     "metadata": {
      "needs_background": "light"
     },
     "output_type": "display_data"
    }
   ],
   "source": [
    "best_ce = worst_hospital_by_state(\"ceará\")\n",
    "hist_ce = history_by_cnes(best_ce)\n",
    "hist_ce.plot()"
   ]
  },
  {
   "cell_type": "code",
   "execution_count": 34,
   "id": "002d118d",
   "metadata": {},
   "outputs": [
    {
     "data": {
      "text/plain": [
       "<AxesSubplot:xlabel='dataNotificacao'>"
      ]
     },
     "execution_count": 34,
     "metadata": {},
     "output_type": "execute_result"
    },
    {
     "data": {
      "image/png": "[encoded data removed]",
      "text/plain": [
       "<Figure size 432x288 with 1 Axes>"
      ]
     },
     "metadata": {
      "needs_background": "light"
     },
     "output_type": "display_data"
    }
   ],
   "source": [
    "best_sp = worst_hospital_by_state(\"são paulo\")\n",
    "hist_sp = history_by_cnes(best_sp)\n",
    "hist_sp.plot()"
   ]
  },
  {
   "cell_type": "code",
   "execution_count": 37,
   "id": "fe7f2420",
   "metadata": {},
   "outputs": [
    {
     "data": {
      "text/plain": [
       "<AxesSubplot:xlabel='dataNotificacao'>"
      ]
     },
     "execution_count": 37,
     "metadata": {},
     "output_type": "execute_result"
    },
    {
     "data": {
      "image/png": "[encoded data removed]",
      "text/plain": [
       "<Figure size 432x288 with 1 Axes>"
      ]
     },
     "metadata": {
      "needs_background": "light"
     },
     "output_type": "display_data"
    }
   ],
   "source": [
    "best_sc = worst_hospital_by_state(\"santa catarina\")\n",
    "hist_sc = history_by_cnes(best_sc)\n",
    "hist_sc.plot()\n"
   ]
  },
  {
   "cell_type": "code",
   "execution_count": null,
   "id": "8844fb51",
   "metadata": {},
   "outputs": [],
   "source": []
  }
 ],
 "metadata": {
  "kernelspec": {
   "display_name": "Python 3 (ipykernel)",
   "language": "python",
   "name": "python3"
  },
  "language_info": {
   "codemirror_mode": {
    "name": "ipython",
    "version": 3
   },
   "file_extension": ".py",
   "mimetype": "text/x-python",
   "name": "python",
   "nbconvert_exporter": "python",
   "pygments_lexer": "ipython3",
   "version": "3.8.10"
  }
 },
 "nbformat": 4,
 "nbformat_minor": 5
}
